{
 "cells": [
  {
   "cell_type": "code",
   "execution_count": 54,
   "metadata": {},
   "outputs": [
    {
     "name": "stdout",
     "output_type": "stream",
     "text": [
      "The autoreload extension is already loaded. To reload it, use:\n",
      "  %reload_ext autoreload\n"
     ]
    }
   ],
   "source": [
    "# Run this cell: \n",
    "# The lines below will instruct jupyter to reload imported modules before \n",
    "# executing code cells. This enables you to quickly iterate and test revisions\n",
    "# to your code without having to restart the kernel and reload all of your \n",
    "# modules each time you make a code change in a separate python file.\n",
    "\n",
    "%load_ext autoreload\n",
    "%autoreload 2"
   ]
  },
  {
   "cell_type": "code",
   "execution_count": 55,
   "metadata": {},
   "outputs": [],
   "source": [
    "import pandas as pd"
   ]
  },
  {
   "cell_type": "code",
   "execution_count": 56,
   "metadata": {},
   "outputs": [],
   "source": [
    "records = pd.read_csv(\"data/records.csv\")"
   ]
  },
  {
   "cell_type": "code",
   "execution_count": 57,
   "metadata": {},
   "outputs": [
    {
     "name": "stdout",
     "output_type": "stream",
     "text": [
      "[25051018, 26425837, 39492848, 29317847, 17517247, 37202871, 34423496, 23712427, 28290528, 27121899]\n"
     ]
    }
   ],
   "source": [
    "pmids = records[\"pmid\"].tolist()\n",
    "print(pmids[0:10])"
   ]
  },
  {
   "cell_type": "code",
   "execution_count": 58,
   "metadata": {},
   "outputs": [],
   "source": [
    "from src.pubmed_downloader import PubMedDownloader"
   ]
  },
  {
   "cell_type": "code",
   "execution_count": 59,
   "metadata": {},
   "outputs": [],
   "source": [
    "converter = PubMedDownloader()"
   ]
  },
  {
   "cell_type": "code",
   "execution_count": 60,
   "metadata": {},
   "outputs": [
    {
     "name": "stderr",
     "output_type": "stream",
     "text": [
      "\u001b[32m2025-06-03 17:00:31.091\u001b[0m | \u001b[1mINFO    \u001b[0m | \u001b[36msrc.pubmed_downloader\u001b[0m:\u001b[36mpmids_to_pmcids\u001b[0m:\u001b[36m127\u001b[0m - \u001b[1mGetting PMCIDs for 10 PMIDs\u001b[0m\n"
     ]
    },
    {
     "name": "stderr",
     "output_type": "stream",
     "text": [
      "\u001b[32m2025-06-03 17:00:31.096\u001b[0m | \u001b[1mINFO    \u001b[0m | \u001b[36msrc.pmcid_from_pmid\u001b[0m:\u001b[36mget_pmcid_from_pmid\u001b[0m:\u001b[36m34\u001b[0m - \u001b[1mFound 10 cached PMIDs, fetching 0 from API\u001b[0m\n",
      "\u001b[32m2025-06-03 17:00:31.097\u001b[0m | \u001b[1mINFO    \u001b[0m | \u001b[36msrc.pmcid_from_pmid\u001b[0m:\u001b[36mget_pmcid_from_pmid\u001b[0m:\u001b[36m36\u001b[0m - \u001b[1mAll PMIDs found in cache\u001b[0m\n",
      "\u001b[32m2025-06-03 17:00:31.097\u001b[0m | \u001b[1mINFO    \u001b[0m | \u001b[36msrc.pubmed_downloader\u001b[0m:\u001b[36mpmids_to_pmcids\u001b[0m:\u001b[36m131\u001b[0m - \u001b[1mFound 10 valid PMCIDs out of 10 PMIDs\u001b[0m\n",
      "\u001b[32m2025-06-03 17:00:31.099\u001b[0m | \u001b[1mINFO    \u001b[0m | \u001b[36msrc.pubmed_downloader\u001b[0m:\u001b[36mpmids_to_markdown\u001b[0m:\u001b[36m185\u001b[0m - \u001b[1mFound 1432 existing markdown files\u001b[0m\n",
      "\u001b[32m2025-06-03 17:00:31.099\u001b[0m | \u001b[1mINFO    \u001b[0m | \u001b[36msrc.pubmed_downloader\u001b[0m:\u001b[36mpmids_to_markdown\u001b[0m:\u001b[36m188\u001b[0m - \u001b[1mConverting 0 PMCIDs to Markdown\u001b[0m\n",
      "\u001b[32m2025-06-03 17:00:31.104\u001b[0m | \u001b[1mINFO    \u001b[0m | \u001b[36msrc.pubmed_downloader\u001b[0m:\u001b[36mpmcids_to_html\u001b[0m:\u001b[36m151\u001b[0m - \u001b[1mFound 1432 existing html files\u001b[0m\n",
      "\u001b[32m2025-06-03 17:00:31.104\u001b[0m | \u001b[1mINFO    \u001b[0m | \u001b[36msrc.pubmed_downloader\u001b[0m:\u001b[36mpmcids_to_html\u001b[0m:\u001b[36m154\u001b[0m - \u001b[1mConverting 0 PMCIDs to HTML\u001b[0m\n",
      "Converting PMCIDs to HTML: 0it [00:00, ?it/s]\n",
      "\u001b[32m2025-06-03 17:00:31.108\u001b[0m | \u001b[1mINFO    \u001b[0m | \u001b[36msrc.pubmed_downloader\u001b[0m:\u001b[36mlocal_html_to_markdown\u001b[0m:\u001b[36m112\u001b[0m - \u001b[1mFound 1432 existing markdown files\u001b[0m\n",
      "\u001b[32m2025-06-03 17:00:31.118\u001b[0m | \u001b[1mINFO    \u001b[0m | \u001b[36msrc.pubmed_downloader\u001b[0m:\u001b[36mlocal_html_to_markdown\u001b[0m:\u001b[36m117\u001b[0m - \u001b[1mConverting 0 HTML files to Markdown\u001b[0m\n",
      "Converting html (data/html) to markdown: 0it [00:00, ?it/s]\n"
     ]
    }
   ],
   "source": [
    "converter.pmids_to_markdown(pmids[0:10])"
   ]
  }
 ],
 "metadata": {
  "kernelspec": {
   "display_name": "default",
   "language": "python",
   "name": "python3"
  },
  "language_info": {
   "codemirror_mode": {
    "name": "ipython",
    "version": 3
   },
   "file_extension": ".py",
   "mimetype": "text/x-python",
   "name": "python",
   "nbconvert_exporter": "python",
   "pygments_lexer": "ipython3",
   "version": "3.13.3"
  }
 },
 "nbformat": 4,
 "nbformat_minor": 2
}
